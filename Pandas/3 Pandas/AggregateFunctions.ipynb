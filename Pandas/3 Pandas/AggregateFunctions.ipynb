{
 "cells": [
  {
   "cell_type": "code",
   "execution_count": 3,
   "source": [
    "# Import libraries\r\n",
    "import pandas as pd\r\n",
    "import numpy as np"
   ],
   "outputs": [],
   "metadata": {}
  },
  {
   "cell_type": "code",
   "execution_count": 4,
   "source": [
    "# Load Excel File\r\n",
    "filename = 'data/car_financing.xlsx'\r\n",
    "df = pd.read_excel(filename)"
   ],
   "outputs": [],
   "metadata": {}
  },
  {
   "cell_type": "code",
   "execution_count": 5,
   "source": [
    "## Filtering \r\n",
    "car_filter = df['car_type']=='Toyota Sienna'\r\n",
    "interest_filter = df['interest_rate']==0.0702\r\n",
    "df = df.loc[car_filter & interest_filter, :]"
   ],
   "outputs": [],
   "metadata": {}
  },
  {
   "cell_type": "code",
   "execution_count": null,
   "source": [
    "# Approach 1 dictionary substitution using rename method\r\n",
    "df = df.rename(columns={'Starting Balance': 'starting_balance',\r\n",
    "                        'Interest Paid': 'interest_paid', \r\n",
    "                        'Principal Paid': 'principal_paid',\r\n",
    "                        'New Balance': 'new_balance'})"
   ],
   "outputs": [],
   "metadata": {}
  },
  {
   "cell_type": "code",
   "execution_count": null,
   "source": [
    "# Approach 2 list replacement\r\n",
    "# Only changing Month -> month, but we need to list the rest of the columns\r\n",
    "df.columns = ['month',\r\n",
    "              'starting_balance',\r\n",
    "              'Repayment',\r\n",
    "              'interest_paid',\r\n",
    "              'principal_paid',\r\n",
    "              'new_balance',\r\n",
    "              'term',\r\n",
    "              'interest_rate',\r\n",
    "              'car_type']"
   ],
   "outputs": [],
   "metadata": {}
  },
  {
   "cell_type": "code",
   "execution_count": null,
   "source": [
    "# Approach 1\r\n",
    "# This approach allows you to drop multiple columns at a time \r\n",
    "df = df.drop(columns=['term'])"
   ],
   "outputs": [],
   "metadata": {}
  },
  {
   "cell_type": "code",
   "execution_count": null,
   "source": [
    "# Approach 2 use the del command\r\n",
    "del df['Repayment']"
   ],
   "outputs": [],
   "metadata": {}
  },
  {
   "cell_type": "code",
   "execution_count": null,
   "source": [
    "df.shape"
   ],
   "outputs": [],
   "metadata": {}
  },
  {
   "cell_type": "markdown",
   "source": [
    "## Aggregate Methods\n",
    "It is often a good idea to compute summary statistics."
   ],
   "metadata": {}
  },
  {
   "cell_type": "markdown",
   "source": [
    "Aggregate Method | Description\n",
    "--- | --- \n",
    "sum | sum of values\n",
    "cumsum | cumulative sum\n",
    "mean | mean of values\n",
    "median | arithmetic median of values\n",
    "min | minimum\n",
    "max | maximum\n",
    "mode | mode\n",
    "std | unbiased standard deviation\n",
    "var | unbiased variance\n",
    "quantile | compute rank-based statistics of elements"
   ],
   "metadata": {}
  },
  {
   "cell_type": "code",
   "execution_count": null,
   "source": [
    "df.head()"
   ],
   "outputs": [],
   "metadata": {}
  },
  {
   "cell_type": "code",
   "execution_count": null,
   "source": [
    "# sum the values in a column\n",
    "# total amount of interest paid over the course of the loan\n",
    "df['interest_paid'].sum()"
   ],
   "outputs": [],
   "metadata": {}
  },
  {
   "cell_type": "code",
   "execution_count": null,
   "source": [
    "# sum all the values across all columns\n",
    "df.sum()"
   ],
   "outputs": [],
   "metadata": {}
  },
  {
   "cell_type": "code",
   "execution_count": null,
   "source": [
    "'Toyota Sienna' + 'Toyota Sienna'"
   ],
   "outputs": [],
   "metadata": {}
  },
  {
   "cell_type": "code",
   "execution_count": null,
   "source": [
    "# Notice that by default it seems like the sum function ignores missing values. \n",
    "help(df['interest_paid'].sum)"
   ],
   "outputs": [],
   "metadata": {}
  },
  {
   "cell_type": "code",
   "execution_count": null,
   "source": [
    "# The info method gives the column datatypes + number of non-null values\n",
    "# Notice that we seem to have 60 non-null values for all but the Interest Paid column. \n",
    "df.info()"
   ],
   "outputs": [],
   "metadata": {}
  },
  {
   "cell_type": "code",
   "execution_count": null,
   "source": [],
   "outputs": [],
   "metadata": {}
  },
  {
   "cell_type": "code",
   "execution_count": null,
   "source": [],
   "outputs": [],
   "metadata": {}
  }
 ],
 "metadata": {
  "anaconda-cloud": {},
  "kernelspec": {
   "name": "python3",
   "display_name": "Python 3.9.7 64-bit (windows store)"
  },
  "language_info": {
   "codemirror_mode": {
    "name": "ipython",
    "version": 3
   },
   "file_extension": ".py",
   "mimetype": "text/x-python",
   "name": "python",
   "nbconvert_exporter": "python",
   "pygments_lexer": "ipython3",
   "version": "3.9.7"
  },
  "interpreter": {
   "hash": "b51e31c0ad3fce86d35e2cd6fd8a338fcc21f1b44ad8c4b3ac46a56bf3123d49"
  }
 },
 "nbformat": 4,
 "nbformat_minor": 1
}