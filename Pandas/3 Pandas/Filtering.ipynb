{
 "cells": [
  {
   "cell_type": "code",
   "execution_count": null,
   "source": [
    "# Import libraries\r\n",
    "import pandas as pd\r\n",
    "import numpy as np"
   ],
   "outputs": [],
   "metadata": {}
  },
  {
   "cell_type": "code",
   "execution_count": null,
   "source": [
    "# Load Excel File\r\n",
    "filename = 'data/car_financing.xlsx'\r\n",
    "df = pd.read_excel(filename)"
   ],
   "outputs": [],
   "metadata": {}
  },
  {
   "cell_type": "markdown",
   "source": [
    "### Filtering Data\n",
    "Filter out the data to only have data `car_type` of 'Toyota Sienna' and `interest_rate` of 0.0702."
   ],
   "metadata": {}
  },
  {
   "cell_type": "code",
   "execution_count": null,
   "source": [
    "df.head()"
   ],
   "outputs": [],
   "metadata": {}
  },
  {
   "cell_type": "markdown",
   "source": [
    "### car_type filter\r\n",
    "Comparison Operator | Meaning\r\n",
    "--- | --- \r\n",
    "< | less than\r\n",
    "<= | less than or equal to\r\n",
    "> | greater than\r\n",
    ">= | greater than or equal to\r\n",
    "== | equal\r\n",
    "!= | not equal"
   ],
   "metadata": {}
  },
  {
   "cell_type": "code",
   "execution_count": null,
   "source": [
    "# Let's first start by looking at the car_type column. \r\n",
    "df['car_type'].value_counts()"
   ],
   "outputs": [],
   "metadata": {}
  },
  {
   "cell_type": "code",
   "execution_count": null,
   "source": [
    "# Notice that the filter produces a pandas series of True and False values\r\n",
    "car_filter = df['car_type']=='Toyota Sienna'"
   ],
   "outputs": [],
   "metadata": {}
  },
  {
   "cell_type": "code",
   "execution_count": null,
   "source": [
    "car_filter.head()"
   ],
   "outputs": [],
   "metadata": {}
  },
  {
   "cell_type": "code",
   "execution_count": null,
   "source": [
    "# Approach 1 using square brackets\r\n",
    "# Filter dataframe to get a DataFrame of only 'Toyota Sienna'\r\n",
    "df[car_filter].head()"
   ],
   "outputs": [],
   "metadata": {}
  },
  {
   "cell_type": "code",
   "execution_count": null,
   "source": [
    "# Approach 2 using loc\r\n",
    "# Filter dataframe to get a DataFrame of only 'Toyota Sienna'\r\n",
    "df.loc[car_filter, :]"
   ],
   "outputs": [],
   "metadata": {}
  },
  {
   "cell_type": "code",
   "execution_count": null,
   "source": [
    "# Notice that it looks like nothing changed\r\n",
    "# This is because we didn't update the dataframe after applying the filter\r\n",
    "df['car_type'].value_counts()"
   ],
   "outputs": [],
   "metadata": {}
  },
  {
   "cell_type": "code",
   "execution_count": null,
   "source": [
    "# Filter dataframe to get a DataFrame of only 'Toyota Sienna'\r\n",
    "df = df.loc[car_filter, :]"
   ],
   "outputs": [],
   "metadata": {}
  },
  {
   "cell_type": "code",
   "execution_count": null,
   "source": [
    "df['car_type'].value_counts()"
   ],
   "outputs": [],
   "metadata": {}
  },
  {
   "cell_type": "markdown",
   "source": [
    "### interest_rate Filter\r\n",
    "Comparison Operator | Meaning\r\n",
    "--- | --- \r\n",
    "< | less than\r\n",
    "<= | less than or equal to\r\n",
    "> | greater than\r\n",
    ">= | greater than or equal to\r\n",
    "== | equal\r\n",
    "!= | not equal"
   ],
   "metadata": {}
  },
  {
   "cell_type": "markdown",
   "source": [
    "### interest_rate Filter\r\n",
    "Comparison Operator | Meaning\r\n",
    "---|---\r\n",
    "< | less than"
   ],
   "metadata": {}
  },
  {
   "cell_type": "code",
   "execution_count": null,
   "source": [
    "df['interest_rate'].value_counts()"
   ],
   "outputs": [],
   "metadata": {}
  },
  {
   "cell_type": "code",
   "execution_count": null,
   "source": [
    "# Notice that the filter produces a pandas series of True and False values\r\n",
    "df['interest_rate']==0.0702"
   ],
   "outputs": [],
   "metadata": {}
  },
  {
   "cell_type": "code",
   "execution_count": null,
   "source": [
    "interest_filter = df['interest_rate']==0.0702"
   ],
   "outputs": [],
   "metadata": {}
  },
  {
   "cell_type": "code",
   "execution_count": null,
   "source": [
    "df = df.loc[interest_filter, :]"
   ],
   "outputs": [],
   "metadata": {}
  },
  {
   "cell_type": "code",
   "execution_count": null,
   "source": [
    "df['interest_rate'].value_counts(dropna = False)"
   ],
   "outputs": [],
   "metadata": {}
  },
  {
   "cell_type": "markdown",
   "source": [
    "### Combining Filters\n",
    "In the previous sections, we created `car_filter` and `interest_filter` and used the `loc` command to filter the data by first applying the `car_filter` and then the `interest_filter`. An more concise way to do it is shown below. \n",
    "\n",
    "Bitwise Logic Operator | Meaning\n",
    "--- | --- \n",
    "& | and\n",
    "\\| | or\n",
    "^ | exclusive or\n",
    "~ | not"
   ],
   "metadata": {}
  },
  {
   "cell_type": "code",
   "execution_count": null,
   "source": [
    "df.loc[car_filter & interest_filter, :]"
   ],
   "outputs": [],
   "metadata": {}
  }
 ],
 "metadata": {
  "anaconda-cloud": {},
  "kernelspec": {
   "name": "python3",
   "display_name": "Python 3.9.7 64-bit (windows store)"
  },
  "language_info": {
   "codemirror_mode": {
    "name": "ipython",
    "version": 3
   },
   "file_extension": ".py",
   "mimetype": "text/x-python",
   "name": "python",
   "nbconvert_exporter": "python",
   "pygments_lexer": "ipython3",
   "version": "3.9.7"
  },
  "interpreter": {
   "hash": "b51e31c0ad3fce86d35e2cd6fd8a338fcc21f1b44ad8c4b3ac46a56bf3123d49"
  }
 },
 "nbformat": 4,
 "nbformat_minor": 1
}